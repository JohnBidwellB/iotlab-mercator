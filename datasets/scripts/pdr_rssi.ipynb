{
 "cells": [
  {
   "cell_type": "code",
   "execution_count": 19,
   "metadata": {},
   "outputs": [],
   "source": [
    "import os\n",
    "import pandas as pd\n",
    "import json\n",
    "from pylab import *\n",
    "\n",
    "import matplotlib.pyplot as plt\n",
    "import numpy as np\n",
    "\n",
    "%matplotlib inline"
   ]
  },
  {
   "cell_type": "code",
   "execution_count": 59,
   "metadata": {
    "collapsed": true
   },
   "outputs": [
    {
     "data": {
      "text/plain": [
       "[<matplotlib.lines.Line2D at 0x7f004884c5d0>]"
      ]
     },
     "execution_count": 59,
     "metadata": {},
     "output_type": "execute_result"
    },
    {
     "data": {
      "image/png": "[encoded data removed]",
      "text/plain": [
       "<matplotlib.figure.Figure at 0x7f004892fdd0>"
      ]
     },
     "metadata": {},
     "output_type": "display_data"
    }
   ],
   "source": [
    "#=============================== defines ======================================\n",
    "\n",
    "RAW_PATH = \"../raw\"\n",
    "OUT_PATH = \"../processed\"\n",
    "\n",
    "#=============================== main =========================================\n",
    "\n",
    "    \n",
    "# load the dataset\n",
    "\n",
    "df = pd.read_csv(\"/home/keoma/Documents/openwsn/mercator/datasets/raw/strasbourg.csv\")\n",
    "#df = pd.read_csv(\"/home/keoma/Documents/openwsn/lille.csv\")\n",
    "\n",
    "# select emitters\n",
    "\n",
    "df.drop_duplicates(inplace=True)\n",
    "df = df[(df.crc == 1) & (df.expected == 1)]\n",
    "list_emitters = df[\"srcmac\"].drop_duplicates().tolist()\n",
    "\n",
    "\n",
    "node_count = len(df.groupby(df[\"mac\"]))\n",
    "\n",
    "transaction = df.groupby([df[\"transctr\"], df[\"srcmac\"]])\n",
    "\n",
    "list_rssi = []\n",
    "list_pdr = []\n",
    "list_mean = []\n",
    "list_std = []\n",
    "\n",
    "for name, group in transaction:\n",
    "    mean_rssi = group[\"rssi\"].mean().round().tolist()\n",
    "    rx_count = len(group)\n",
    "    tx_count = df[\"txnumpk\"].iloc[0]\n",
    "    pdr = (rx_count * 100) / ((node_count - 1) * tx_count)\n",
    "    list_pdr.append(pdr)\n",
    "    list_rssi.append(mean_rssi)\n",
    "\n",
    "ser = pd.DataFrame(data={\"rssi\": list_rssi, \"pdr\": list_pdr})\n",
    "groupe = ser.groupby(ser[\"rssi\"])\n",
    "list_mean = groupe[\"pdr\"].mean()\n",
    "\n",
    "x = np.array(list_rssi)\n",
    "y = np.array(list_pdr)\n",
    "e = np.array(list_std)\n",
    "\n",
    "plt.figure()\n",
    "axes = plt.gca()\n",
    "axes.set_ylim([0,100])\n",
    "plot(x, y, '+')\n",
    "plot(list_mean.index, list_mean.values, 'r')"
   ]
  },
  {
   "cell_type": "code",
   "execution_count": 16,
   "metadata": {},
   "outputs": [],
   "source": [
    ""
   ]
  }
 ],
 "metadata": {
  "kernelspec": {
   "display_name": "Python 2",
   "language": "python",
   "name": "python2"
  },
  "language_info": {
   "codemirror_mode": {
    "name": "ipython",
    "version": 2.0
   },
   "file_extension": ".py",
   "mimetype": "text/x-python",
   "name": "python",
   "nbconvert_exporter": "python",
   "pygments_lexer": "ipython2",
   "version": "2.7.6"
  }
 },
 "nbformat": 4,
 "nbformat_minor": 0
}